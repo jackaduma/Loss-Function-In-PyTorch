{
 "cells": [
  {
   "cell_type": "markdown",
   "metadata": {},
   "source": [
    "# 损失函数"
   ]
  },
  {
   "cell_type": "markdown",
   "metadata": {},
   "source": [
    "## L1范数损失 L1Loss\n",
    "\n",
    "计算 output 和 target 之差的绝对值。\n",
    "\n",
    "参数：\n",
    "\n",
    "reduction-三个值， none: 不使用约简；  mean:返回loss和的平均值； sum:返回loss的和。 默认：mean。"
   ]
  },
  {
   "cell_type": "code",
   "execution_count": null,
   "metadata": {},
   "outputs": [],
   "source": [
    "torch.nn.L1Loss(reduction='mean')"
   ]
  },
  {
   "cell_type": "markdown",
   "metadata": {},
   "source": [
    "## 均方误差损失 MSELoss\n",
    "\n",
    "计算 output 和 target 之差的均方差。\n",
    "\n",
    "参数：\n",
    "\n",
    "reduction-三个值， none: 不使用约简； mean:返回loss和的平均值； sum:返回loss的和。  默认：mean。"
   ]
  },
  {
   "cell_type": "code",
   "execution_count": null,
   "metadata": {},
   "outputs": [],
   "source": [
    "torch.nn.MSELoss(reduction='mean')"
   ]
  },
  {
   "cell_type": "markdown",
   "metadata": {},
   "source": [
    "## 交叉熵损失 CrossEntropyLoss\n",
    "\n",
    "当训练有 C 个类别的分类问题时很有效. 可选参数 weight 必须是一个1维 Tensor, 权重将被分配给各个类别. 对于不平衡的训练集非常有效。\n",
    "\n",
    "在多分类任务中，经常采用 softmax 激活函数+交叉熵损失函数，因为交叉熵描述了两个概率分布的差异，然而神经网络输出的是向量，并不是概率分布的形式。所以需要 softmax激活函数将一个向量进行“归一化”成概率分布的形式，再采用交叉熵损失函数计算 loss。\n",
    "\n",
    "$$loss(x, class) = weight[class](-x[class] + log(\\sum_{j}exp(x[j])))$$\n",
    "\n",
    "参数：\n",
    "\n",
    "weight (Tensor, optional) – 自定义的每个类别的权重. 必须是一个长度为 C 的 Tensor\n",
    "\n",
    "ignore_index (int, optional) – 设置一个目标值, 该目标值会被忽略, 从而不会影响到 输入的梯度。\n",
    "\n",
    "reduction-三个值，none: 不使用约简；mean:返回loss和的平均值；sum:返回loss的和。默认：mean。"
   ]
  },
  {
   "cell_type": "code",
   "execution_count": null,
   "metadata": {},
   "outputs": [],
   "source": [
    "torch.nn.CrossEntropyLoss(weight=None, ignore_index=-100, reduction='mean')"
   ]
  },
  {
   "cell_type": "markdown",
   "metadata": {},
   "source": [
    "## KL 散度损失 KLDivLoss\n",
    "\n",
    "计算 input 和 target 之间的 KL 散度。KL 散度可用于衡量不同的连续分布之间的距离, 在连续的输出分布的空间上(离散采样)上进行直接回归时很有效.\n",
    "\n",
    "参数：\n",
    "\n",
    "reduction-三个值，  none: 不使用约简；  mean:返回loss和的平均值；  sum:返回loss的和。  默认：mean。"
   ]
  },
  {
   "cell_type": "code",
   "execution_count": null,
   "metadata": {},
   "outputs": [],
   "source": [
    "torch.nn.KLDivLoss(reduction='mean')"
   ]
  },
  {
   "cell_type": "markdown",
   "metadata": {},
   "source": [
    "## 二进制交叉熵损失 BCELoss\n",
    "\n",
    "二分类任务时的交叉熵计算函数。用于测量重构的误差, 例如自动编码机. 注意目标的值 t[i] 的范围为0到1之间.\n",
    "\n",
    "参数：\n",
    "\n",
    "weight (Tensor, optional) – 自定义的每个 batch 元素的 loss 的权重. 必须是一个长度为 “nbatch” 的 的 Tensor\n",
    "\n",
    "pos_weight(Tensor, optional) – 自定义的每个正样本的 loss 的权重. 必须是一个长度 为 “classes” 的 Tensor"
   ]
  },
  {
   "cell_type": "code",
   "execution_count": null,
   "metadata": {},
   "outputs": [],
   "source": [
    "torch.nn.BCELoss(weight=None, reduction='mean')"
   ]
  },
  {
   "cell_type": "markdown",
   "metadata": {},
   "source": [
    "## BCEWithLogitsLoss\n",
    "\n",
    "BCEWithLogitsLoss损失函数把 Sigmoid 层集成到了 BCELoss 类中. 该版比用一个简单的 Sigmoid 层和 BCELoss 在数值上更稳定, 因为把这两个操作合并为一个层之后, 可以利用 log-sum-exp 的 技巧来实现数值稳定.\n",
    "\n",
    "参数：\n",
    "\n",
    "weight (Tensor, optional) – 自定义的每个 batch 元素的 loss 的权重. 必须是一个长度 为 “nbatch” 的 Tensor\n",
    "\n",
    "pos_weight(Tensor, optional) – 自定义的每个正样本的 loss 的权重. 必须是一个长度 为 “classes” 的 Tensor"
   ]
  },
  {
   "cell_type": "code",
   "execution_count": null,
   "metadata": {},
   "outputs": [],
   "source": [
    "torch.nn.BCEWithLogitsLoss(weight=None, reduction='mean', pos_weight=None)"
   ]
  },
  {
   "cell_type": "markdown",
   "metadata": {},
   "source": [
    "## MarginRankingLoss\n",
    "\n",
    "对于 mini-batch(小批量) 中每个实例的损失函数如下:\n",
    "\n",
    "$$loss(x, y) = max(0, -y*(x_1 - x_2) + margin)$$\n",
    "\n",
    "参数：\n",
    "\n",
    "margin:默认值0"
   ]
  },
  {
   "cell_type": "code",
   "execution_count": null,
   "metadata": {},
   "outputs": [],
   "source": [
    "torch.nn.MarginRankingLoss(margin=0.0, reduction='mean')"
   ]
  },
  {
   "cell_type": "markdown",
   "metadata": {},
   "source": [
    "## HingeEmbeddingLoss\n",
    "\n",
    "对于 mini-batch(小批量) 中每个实例的损失函数如下:\n",
    "\n",
    "参数：\n",
    "\n",
    "$$\n",
    "l_n = \n",
    "\\begin{cases}\n",
    "    x_n, &if\\ y_n = 1 \\\\\n",
    "    max\\{0, \\Delta - x_n\\}, &if \\ y_n = -1\n",
    "\\end{cases}\n",
    "$$\n",
    "\n",
    "margin:默认值1"
   ]
  },
  {
   "cell_type": "code",
   "execution_count": null,
   "metadata": {},
   "outputs": [],
   "source": [
    "torch.nn.HingeEmbeddingLoss(margin=1.0,  reduction='mean')"
   ]
  },
  {
   "cell_type": "markdown",
   "metadata": {},
   "source": [
    "## 多标签分类损失 MultiLabelMarginLoss\n",
    "\n",
    "对于mini-batch(小批量) 中的每个样本按如下公式计算损失:\n",
    "\n",
    "$$loss(x, y) = \\sum_{ij}\\frac{max(0, 1-(x[y[i]]-x[i]))}{x.size(0)}$$"
   ]
  },
  {
   "cell_type": "code",
   "execution_count": null,
   "metadata": {},
   "outputs": [],
   "source": [
    "torch.nn.MultiLabelMarginLoss(reduction='mean')"
   ]
  },
  {
   "cell_type": "markdown",
   "metadata": {},
   "source": [
    "## 平滑版L1损失 SmoothL1Loss\n",
    "\n",
    "也被称为 Huber 损失函数。\n",
    "\n",
    "$$loss(x, y) = \\frac{1}{n}\\sum_{i}z_i$$\n",
    "\n",
    "其中\n",
    "\n",
    "$$\n",
    "z_i =\n",
    "\\begin{cases}\n",
    "    0.5(x_i-y_i)^2, & if\\ |x_i - y_i| < 1 \\\\\n",
    "    |x_i - y_i| - 0.5, & otherwise\n",
    "\\end{cases} \n",
    "$$"
   ]
  },
  {
   "cell_type": "code",
   "execution_count": null,
   "metadata": {},
   "outputs": [],
   "source": [
    "torch.nn.SmoothL1Loss(reduction='mean')"
   ]
  },
  {
   "cell_type": "markdown",
   "metadata": {},
   "source": [
    "## 2分类的logistic损失 SoftMarginLoss\n",
    "\n",
    "$$loss(x, y) = \\sum_{i}\\frac{log(1+exp(-y[i]*x[i]))}{x.nelement()}$$"
   ]
  },
  {
   "cell_type": "code",
   "execution_count": null,
   "metadata": {},
   "outputs": [],
   "source": [
    "torch.nn.SoftMarginLoss(reduction='mean')"
   ]
  },
  {
   "cell_type": "markdown",
   "metadata": {},
   "source": [
    "## 多标签 one-versus-all 损失 MultiLabelSoftMarginLoss\n",
    "\n",
    "$$loss(x,y) = -\\frac{1}{C} * \\sum_{i}y[i]*log((1+exp(-x[i]))^-1)+(1-y[i])*log(\\frac{exp(-x[i])}{(1+exp(-x[i]))})$$"
   ]
  },
  {
   "cell_type": "code",
   "execution_count": null,
   "metadata": {},
   "outputs": [],
   "source": [
    "torch.nn.MultiLabelSoftMarginLoss(weight=None, reduction='mean')"
   ]
  },
  {
   "cell_type": "markdown",
   "metadata": {},
   "source": [
    "## cosine 损失 CosineEmbeddingLoss\n",
    "\n",
    "$$\n",
    "loss(x, y)=\n",
    "\\begin{cases}\n",
    "    1 - cos(x_1, x_2), & if \\ y == 1, \\\\\n",
    "    max(0, cos(x_1, x_2)-margin), & if \\ y == -1,\n",
    "\\end{cases}\n",
    "$$\n",
    "\n",
    "参数：\n",
    "\n",
    "margin:默认值0"
   ]
  },
  {
   "cell_type": "code",
   "execution_count": null,
   "metadata": {},
   "outputs": [],
   "source": [
    "torch.nn.CosineEmbeddingLoss(margin=0.0, reduction='mean')"
   ]
  },
  {
   "cell_type": "markdown",
   "metadata": {},
   "source": [
    "## 多类别分类的hinge损失 MultiMarginLoss\n",
    "\n",
    "$$loss(x,y) = \\frac{\\sum_{i}max(0, w[y]*(margin - x[y] + x[i]))^p}{x.size(0)}$$\n",
    "\n",
    "参数：\n",
    "\n",
    "p=1或者2 默认值：1\n",
    "\n",
    "margin:默认值1\n",
    "\n"
   ]
  },
  {
   "cell_type": "code",
   "execution_count": null,
   "metadata": {},
   "outputs": [],
   "source": [
    "torch.nn.MultiMarginLoss(p=1, margin=1.0, weight=None,  reduction='mean')"
   ]
  },
  {
   "cell_type": "markdown",
   "metadata": {},
   "source": [
    "## 三元组损失 TripletMarginLoss\n",
    "\n",
    "$$L(a,p,n) = max\\{d(a_i, p_i) - d(a_i, n_i) + margin, 0\\}$$\n",
    "\n",
    "其中:\n",
    "\n",
    "$$d(x_i, y_i) = ||x_i - y_i||_p$$"
   ]
  },
  {
   "cell_type": "code",
   "execution_count": null,
   "metadata": {},
   "outputs": [],
   "source": [
    "torch.nn.TripletMarginLoss(margin=1.0, p=2.0, eps=1e-06, swap=False, reduction='mean')"
   ]
  },
  {
   "cell_type": "markdown",
   "metadata": {},
   "source": [
    "## 连接时序分类损失 CTCLoss\n",
    "\n",
    "CTC连接时序分类损失，可以对没有对齐的数据进行自动对齐，主要用在没有事先对齐的序列化数据训练上。比如语音识别、ocr识别等等。\n",
    "\n",
    "参数：\n",
    "\n",
    "reduction-三个值，  none: 不使用约简；  mean:返回loss和的平均值；  sum:返回loss的和。  默认：mean。"
   ]
  },
  {
   "cell_type": "code",
   "execution_count": null,
   "metadata": {},
   "outputs": [],
   "source": [
    "torch.nn.CTCLoss(blank=0, reduction='mean')"
   ]
  },
  {
   "cell_type": "markdown",
   "metadata": {},
   "source": [
    "## 负对数似然损失 NLLLoss\n",
    "\n",
    "负对数似然损失. 用于训练 C 个类别的分类问题.\n",
    "\n",
    "参数：\n",
    "\n",
    "weight (Tensor, optional) – 自定义的每个类别的权重. 必须是一个长度为 C 的 Tensor\n",
    "\n",
    "ignore_index (int, optional) – 设置一个目标值, 该目标值会被忽略, 从而不会影响到 输入的梯度.\n",
    "\n"
   ]
  },
  {
   "cell_type": "code",
   "execution_count": null,
   "metadata": {},
   "outputs": [],
   "source": [
    "torch.nn.NLLLoss(weight=None, ignore_index=-100,  reduction='mean')"
   ]
  },
  {
   "cell_type": "markdown",
   "metadata": {},
   "source": [
    "## NLLLoss2d\n",
    "\n",
    "对于图片输入的负对数似然损失. 它计算每个像素的负对数似然损失.\n",
    "\n",
    "参数：\n",
    "\n",
    "weight (Tensor, optional) – 自定义的每个类别的权重. 必须是一个长度为 C 的 Tensor\n",
    "\n",
    "reduction-三个值，none: 不使用约简；mean:返回loss和的平均值；sum:返回loss的和。默认：mean。\n",
    "\n"
   ]
  },
  {
   "cell_type": "code",
   "execution_count": null,
   "metadata": {},
   "outputs": [],
   "source": [
    "torch.nn.NLLLoss2d(weight=None, ignore_index=-100, reduction='mean')"
   ]
  },
  {
   "cell_type": "markdown",
   "metadata": {},
   "source": [
    "## PoissonNLLLoss\n",
    "\n",
    "目标值为泊松分布的负对数似然损失\n",
    "\n",
    "参数：\n",
    "\n",
    "log_input (bool, optional) – 如果设置为 True , loss 将会按照公式 $$exp(input) - target * input$$ 来计算, 如果设置为 False , loss 将会按照 $$input - target * log(input+eps)$$ 计算.\n",
    "\n",
    "full (bool, optional) – 是否计算全部的 loss, i. e. 加上 Stirling 近似项 $$target * log(target) - target + 0.5 * log(2 * pi * target)$$.\n",
    "\n",
    "eps (float, optional) – 默认值: 1e-8"
   ]
  },
  {
   "cell_type": "code",
   "execution_count": null,
   "metadata": {},
   "outputs": [],
   "source": [
    "torch.nn.PoissonNLLLoss(log_input=True, full=False,  eps=1e-08,  reduction='mean')"
   ]
  }
 ],
 "metadata": {
  "language_info": {
   "name": "python"
  },
  "orig_nbformat": 4
 },
 "nbformat": 4,
 "nbformat_minor": 2
}
